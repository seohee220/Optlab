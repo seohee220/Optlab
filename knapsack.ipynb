{
 "cells": [
  {
   "cell_type": "code",
   "execution_count": 1,
   "metadata": {
    "collapsed": false
   },
   "outputs": [],
   "source": [
    "from numpy import *\n",
    "import sys\n",
    "import numba # numba : jit 컴파일러\n",
    "from cplex import *"
   ]
  },
  {
   "cell_type": "markdown",
   "metadata": {},
   "source": [
    "# Make Problems"
   ]
  },
  {
   "cell_type": "code",
   "execution_count": 50,
   "metadata": {
    "collapsed": true
   },
   "outputs": [],
   "source": [
    "def makeProbs(datafile):\n",
    "    f = open(datafile,'r')\n",
    "    lines = f.readlines()\n",
    "\n",
    "    probs = []\n",
    "\n",
    "    prob = []\n",
    "    for line in lines:\n",
    "        line = line.rstrip()\n",
    "\n",
    "        if line.startswith('-----'):\n",
    "            probs.append(prob)\n",
    "            prob = []\n",
    "        elif line != '':\n",
    "            prob.append(line)\n",
    "\n",
    "    return [makeProb(p) for p in probs]\n",
    "        \n",
    "def sort_desc_by_a(c, a, sol):\n",
    "    sorted_idx = sorted(range(len(a)),key=lambda x:a[x], reverse=True)\n",
    "    new_a = [a[si] for si in sorted_idx]\n",
    "    new_c = [c[si] for si in sorted_idx]\n",
    "    new_sol = [sol[si] for si in sorted_idx]\n",
    "    d = [int(na*0.3) for na in new_a]\n",
    "    return new_c, new_a, new_sol, d\n",
    "\n",
    "def makeProb(dat):\n",
    "    info = []\n",
    "    for dp in dat[1:5]:\n",
    "        info.append(float(dp.split()[1]))\n",
    "    \n",
    "    item = []\n",
    "    for d in dat[5:]:\n",
    "        a = d.split(',')\n",
    "        a = map(int,a)\n",
    "        item.append(a)\n",
    "    \n",
    "    c = [it[1] for it in item]\n",
    "    a = [it[2] for it in item]\n",
    "    sol = [it[3] for it in item]\n",
    "    sorted_c, sorted_a, sorted_sol, sorted_d = sort_desc_by_a(c,a,sol)\n",
    "    \n",
    "    return {\n",
    "        'n': int(info[0]),\n",
    "        'b': int(info[1]),\n",
    "        'optval': int(info[2]),\n",
    "        'c' : sorted_c, \n",
    "        'a' : sorted_a,\n",
    "        'sol' : sorted_sol,\n",
    "        'd' : sorted_d\n",
    "        \n",
    "    }"
   ]
  },
  {
   "cell_type": "code",
   "execution_count": 36,
   "metadata": {
    "collapsed": false
   },
   "outputs": [],
   "source": [
    "probs = makeProbs('./sc/knapPI_1_50_1000.csv')"
   ]
  },
  {
   "cell_type": "code",
   "execution_count": 40,
   "metadata": {
    "collapsed": false
   },
   "outputs": [
    {
     "data": {
      "text/plain": [
       "[298,\n",
       " 295,\n",
       " 291,\n",
       " 286,\n",
       " 276,\n",
       " 270,\n",
       " 268,\n",
       " 264,\n",
       " 262,\n",
       " 256,\n",
       " 253,\n",
       " 238,\n",
       " 224,\n",
       " 221,\n",
       " 215,\n",
       " 214,\n",
       " 204,\n",
       " 202,\n",
       " 193,\n",
       " 180,\n",
       " 172,\n",
       " 158,\n",
       " 146,\n",
       " 145,\n",
       " 129,\n",
       " 126,\n",
       " 110,\n",
       " 97,\n",
       " 96,\n",
       " 89,\n",
       " 83,\n",
       " 80,\n",
       " 75,\n",
       " 74,\n",
       " 72,\n",
       " 63,\n",
       " 59,\n",
       " 43,\n",
       " 41,\n",
       " 36,\n",
       " 36,\n",
       " 32,\n",
       " 29,\n",
       " 29,\n",
       " 28,\n",
       " 21,\n",
       " 21,\n",
       " 12,\n",
       " 8,\n",
       " 2]"
      ]
     },
     "execution_count": 40,
     "metadata": {},
     "output_type": "execute_result"
    }
   ],
   "source": [
    "probs[0]['d']"
   ]
  },
  {
   "cell_type": "markdown",
   "metadata": {},
   "source": [
    "# 1. Binary Knapsack"
   ]
  },
  {
   "cell_type": "markdown",
   "metadata": {},
   "source": [
    "### 1.1. Recursive Method"
   ]
  },
  {
   "cell_type": "code",
   "execution_count": 41,
   "metadata": {
    "collapsed": true
   },
   "outputs": [],
   "source": [
    "def f(r, lmd, c, a):\n",
    "    pick = c[r]\n",
    "    if lmd<=0 or r<=0: return 0\n",
    "    if lmd<a[r]:\n",
    "        pick=0\n",
    "    return max(f(r-1,lmd,c,a), pick+f(r-1,lmd-a[r],c,a))\n"
   ]
  },
  {
   "cell_type": "code",
   "execution_count": 42,
   "metadata": {
    "collapsed": false
   },
   "outputs": [],
   "source": [
    "def solve_recursion(prob):\n",
    "    c = [0]+prob['c']\n",
    "    a = [0]+prob['a']\n",
    "    b = prob['b']\n",
    "    n = prob['n']\n",
    "    optval = prob['optval']\n",
    "    myVal = f(n, b, c, a)\n",
    "    if optval != myVal:\n",
    "        print 'wrong', myVal, optval"
   ]
  },
  {
   "cell_type": "code",
   "execution_count": 43,
   "metadata": {
    "collapsed": false
   },
   "outputs": [
    {
     "name": "stdout",
     "output_type": "stream",
     "text": [
      "1 loops, best of 3: 4.85 s per loop\n"
     ]
    }
   ],
   "source": [
    "%%timeit\n",
    "solve_recursion(probs[0])"
   ]
  },
  {
   "cell_type": "markdown",
   "metadata": {},
   "source": [
    "### 1.2. Iterative Method"
   ]
  },
  {
   "cell_type": "code",
   "execution_count": 44,
   "metadata": {
    "collapsed": false
   },
   "outputs": [],
   "source": [
    "@numba.jit(nopython=True) # just in time\n",
    "\n",
    "def f4(r, lmd, c, a):\n",
    "    k = zeros((lmd+1, r+1))\n",
    "    \n",
    "    for i in range(lmd+1):\n",
    "        for j in range(1,r+1):\n",
    "            if i<a[j]: pick = 0\n",
    "            else: pick = c[j]\n",
    "            k[i][j] = max(k[i][j-1], pick+k[i-a[j]][j-1])\n",
    "    return k[-1][-1]"
   ]
  },
  {
   "cell_type": "code",
   "execution_count": 45,
   "metadata": {
    "collapsed": true
   },
   "outputs": [],
   "source": [
    "def solve_iterative(pr):\n",
    "    c = [0]+pr['c']\n",
    "    a = [0]+pr['a']\n",
    "    b = pr['b']\n",
    "    n = pr['n']\n",
    "    optval = pr['optval']\n",
    "    myVal = f4(n, b, c, a)\n",
    "    print myVal\n",
    "    if optval != myVal:\n",
    "        print 'wrong', myVal, optval"
   ]
  },
  {
   "cell_type": "code",
   "execution_count": 46,
   "metadata": {
    "collapsed": false,
    "scrolled": true
   },
   "outputs": [
    {
     "name": "stdout",
     "output_type": "stream",
     "text": [
      "8373.0\n"
     ]
    }
   ],
   "source": [
    "# %%timeit\n",
    "solve_iterative(probs[0])"
   ]
  },
  {
   "cell_type": "markdown",
   "metadata": {},
   "source": [
    "### 1.3. Cplex"
   ]
  },
  {
   "cell_type": "code",
   "execution_count": 47,
   "metadata": {
    "collapsed": true
   },
   "outputs": [],
   "source": [
    "def knpasack_cplex(n,a,b,c):\n",
    "    cplex = Cplex()\n",
    "    \n",
    "    # Set variables\n",
    "    x = ['x%d' % i for i in range(n)] #variable name\n",
    "    cplex.variables.add(obj=c, types=['B'] * n, names=x)\n",
    "    \n",
    "    # Set constraints\n",
    "    cplex.linear_constraints.add(lin_expr=[SparsePair(ind=x, val=a)], \\\n",
    "                                 senses=['L'], rhs=[b], names=['knp'])\n",
    "    \n",
    "    #Set sense\n",
    "    cplex.objective.set_sense(cplex.objective.sense.maximize)\n",
    "    \n",
    "    #Solve\n",
    "    cplex.solve()\n",
    "    \n",
    "    obj_val = cplex.solution.get_objective_value()\n",
    "    x_res = [(cplex.solution.get_values(x[i]), x[i]) for i in range(n) \\\n",
    "             if cplex.solution.get_values(x[i]) > 0]\n",
    "    return obj_val #, x_res"
   ]
  },
  {
   "cell_type": "code",
   "execution_count": 48,
   "metadata": {
    "collapsed": false,
    "scrolled": true
   },
   "outputs": [],
   "source": [
    "def solve_knapsack_cplex(p):\n",
    "    n = p['n']\n",
    "    a = p['a']\n",
    "    b = p['b']\n",
    "    c = p['c']\n",
    "    return knpasack_cplex(n,a,b,c), p['optval']"
   ]
  },
  {
   "cell_type": "code",
   "execution_count": 49,
   "metadata": {
    "collapsed": false
   },
   "outputs": [
    {
     "name": "stdout",
     "output_type": "stream",
     "text": [
      "Found incumbent of value 0.000000 after 0.00 sec. (0.00 ticks)\n",
      "Tried aggregator 1 time.\n",
      "Reduced MIP has 1 rows, 50 columns, and 50 nonzeros.\n",
      "Reduced MIP has 50 binaries, 0 generals, 0 SOSs, and 0 indicators.\n",
      "Presolve time = 0.00 sec. (0.07 ticks)\n",
      "Probing time = 0.00 sec. (0.01 ticks)\n",
      "Tried aggregator 1 time.\n",
      "Reduced MIP has 1 rows, 50 columns, and 50 nonzeros.\n",
      "Reduced MIP has 50 binaries, 0 generals, 0 SOSs, and 0 indicators.\n",
      "Presolve time = 0.00 sec. (0.08 ticks)\n",
      "Probing time = 0.00 sec. (0.01 ticks)\n",
      "MIP emphasis: balance optimality and feasibility.\n",
      "MIP search method: dynamic search.\n",
      "Parallel mode: deterministic, using up to 4 threads.\n",
      "Root relaxation solution time = 0.00 sec. (0.02 ticks)\n",
      "\n",
      "        Nodes                                         Cuts/\n",
      "   Node  Left     Objective  IInf  Best Integer    Best Bound    ItCnt     Gap\n",
      "\n",
      "*     0+    0                            0.0000    23933.0000              --- \n",
      "      0     0    18643.1466     1        0.0000    18643.1466        1     --- \n",
      "*     0+    0                        18471.0000    18643.1466             0.93%\n",
      "      0     0    18625.7701     1    18471.0000       Cuts: 2        2    0.84%\n",
      "*     0+    0                        18590.0000    18625.7701             0.19%\n",
      "      0     0    18625.2500     3    18590.0000     Covers: 1        3    0.19%\n",
      "*     0+    0                        18595.0000    18625.2500             0.16%\n",
      "*     0+    0                        18602.0000    18625.2500             0.12%\n",
      "      0     0        cutoff          18602.0000    18602.0000        3    0.00%\n",
      "Elapsed time = 0.07 sec. (0.53 ticks, tree = 0.00 MB, solutions = 5)\n",
      "\n",
      "Cover cuts applied:  2\n",
      "Zero-half cuts applied:  1\n",
      "\n",
      "Root node processing (before b&c):\n",
      "  Real time             =    0.07 sec. (0.54 ticks)\n",
      "Parallel b&c, 4 threads:\n",
      "  Real time             =    0.00 sec. (0.00 ticks)\n",
      "  Sync time (average)   =    0.00 sec.\n",
      "  Wait time (average)   =    0.00 sec.\n",
      "                          ------------\n",
      "Total (root+branch&cut) =    0.07 sec. (0.54 ticks)\n"
     ]
    },
    {
     "data": {
      "text/plain": [
       "(18602.0, 18602)"
      ]
     },
     "execution_count": 49,
     "metadata": {},
     "output_type": "execute_result"
    }
   ],
   "source": [
    "solve_knapsack_cplex(probs[50])"
   ]
  },
  {
   "cell_type": "markdown",
   "metadata": {},
   "source": [
    "# 2. Nonlinear Knapsack"
   ]
  },
  {
   "cell_type": "markdown",
   "metadata": {},
   "source": [
    "### 2.1. Iterative Method"
   ]
  },
  {
   "cell_type": "code",
   "execution_count": 27,
   "metadata": {
    "collapsed": true
   },
   "outputs": [],
   "source": [
    "@numba.jit(nopython=True)\n",
    "def nonlinear_knapsack_dp(a, p, b, t):\n",
    "    m = len(a)\n",
    "    f = zeros((m,b))\n",
    "    alphas = zeros((m,b))\n",
    "    \n",
    "    cond = b*p[1]/float(p[1]+t)\n",
    "    for alpha in range(b):\n",
    "        if alpha == a[0] and alpha > cond:\n",
    "            f[0][alpha] = 0\n",
    "        elif alpha == a[0] and alpha <= cond:\n",
    "            f[0][alpha] = p[0]-t*alpha/float(b-alpha)\n",
    "            alphas[0][alpha] = alpha\n",
    "        elif alpha != a[0]:\n",
    "            f[0][alpha] = -sys.maxint\n",
    "\n",
    "    for j in range(1,m):\n",
    "        for alpha in range(b):\n",
    "            res1=0; res2=0\n",
    "            for ap_j in alphas[j-1]:\n",
    "                if alpha==ap_j:    # if alpha in alphas[j-1]:\n",
    "                    res1 = f[j-1][alpha]\n",
    "                    alphas[j][alpha] = alpha\n",
    "            for ap_j in alphas[j-1]:\n",
    "                if alpha-a[j]==ap_j:    #if alpha-a[j] in alphas[j-1]:\n",
    "                    res2 = f[j-1][alpha-a[j]]+p[j]-t*a[j]*b/float((b-alpha)**2+a[j]*(b-alpha))\n",
    "                    alphas[j][alpha] = alpha\n",
    "            f[j][alpha] = max(res1,res2)\n",
    "    return f[-1]\n",
    "#     return f[-1][-1] #########왜 안되지..\n",
    "#     return f,alphas"
   ]
  },
  {
   "cell_type": "code",
   "execution_count": 28,
   "metadata": {
    "collapsed": true
   },
   "outputs": [],
   "source": [
    "def solve_nonlinear_knapsack_dp(prob, penalty):\n",
    "    c = prob['c']\n",
    "    a = prob['a']\n",
    "    b = prob['b']\n",
    "#     n = prob['n']\n",
    "    optval = prob['optval']\n",
    "    myVal = nonlinear_knapsack_dp(a,c,b,penalty)\n",
    "    myVal = max(myVal)\n",
    "    return myVal#, optval"
   ]
  },
  {
   "cell_type": "code",
   "execution_count": 29,
   "metadata": {
    "collapsed": false,
    "scrolled": true
   },
   "outputs": [
    {
     "data": {
      "text/plain": [
       "8146.8717948717958"
      ]
     },
     "execution_count": 29,
     "metadata": {},
     "output_type": "execute_result"
    }
   ],
   "source": [
    "# %%timeit\n",
    "solve_nonlinear_knapsack_dp(probs[5],1)"
   ]
  },
  {
   "cell_type": "markdown",
   "metadata": {},
   "source": [
    "### 2.2. Cplex"
   ]
  },
  {
   "cell_type": "code",
   "execution_count": 30,
   "metadata": {
    "collapsed": false
   },
   "outputs": [],
   "source": [
    "def nonlinear_knapsack_cplex(n,a,b,c,t): #p(lnkp), t=penalty\n",
    "    cplex = Cplex()\n",
    "    \n",
    "    # Set variables\n",
    "    x = ['x%d' % i for i in range(n)]\n",
    "    y = ['y%d' % i for i in range(n)]\n",
    "    R = ['R']\n",
    "    var_types = ['B']*n+['C']+['C']*n\n",
    "    cplex.variables.add(obj=c+[-t]+[0]*n, types=var_types, names=x+R+y)  #obj=c+[-t], types=['B']*n + ['C'], names=x+R)\n",
    "    \n",
    "    # Set constraints\n",
    "    M = 100000\n",
    "    rows = [\\\n",
    "            [x, a],\\\n",
    "            [x+R+y, a+[-b]+a]\\\n",
    "            ]+\\\n",
    "            [[['y%d' %i,'R'],[1,-1]] for i in range(n)]+\\\n",
    "            [[['y%d' %i,'x%d' %i],[1,-M]] for i in range(n)]+\\\n",
    "            [[['x%d' %i,'R','y%d' %i],[M,1,-1]] for i in range(n)]\n",
    "    \n",
    "#     [SparsePair(ind=x+y, val=a+a),\\\n",
    "#      SparsePair()]\n",
    "    \n",
    "    cplex.linear_constraints.add(lin_expr=rows,senses=['L','E']+['L' for i in range(3*n)], \\\n",
    "                                 rhs=[b,0]+[0 for i in range(2*n)]+[M for i in range(n)], \\\n",
    "                                 names=['c%d'%(i+1) for i in range(3*n+2)])\n",
    "    \n",
    "    #Set sense\n",
    "    cplex.objective.set_sense(cplex.objective.sense.maximize)\n",
    "    \n",
    "    #Solve\n",
    "    cplex.solve()\n",
    "    \n",
    "    obj_val = cplex.solution.get_objective_value()\n",
    "    x_res = [(cplex.solution.get_values(x[i]), x[i]) for i in range(n) \\\n",
    "             if cplex.solution.get_values(x[i]) > 0]\n",
    "    \n",
    "    cplex.write('test_nonlinear.lp') ###############\n",
    "    return obj_val #, x_res"
   ]
  },
  {
   "cell_type": "code",
   "execution_count": 31,
   "metadata": {
    "collapsed": true
   },
   "outputs": [],
   "source": [
    "def solve_nonlinear_knapsack_cplex(p, t):\n",
    "    n = p['n']\n",
    "    a = p['a']\n",
    "    b = p['b']\n",
    "    c = p['c']\n",
    "    return nonlinear_knapsack_cplex(n,a,b,c,t)"
   ]
  },
  {
   "cell_type": "code",
   "execution_count": 33,
   "metadata": {
    "collapsed": false
   },
   "outputs": [
    {
     "name": "stdout",
     "output_type": "stream",
     "text": [
      "Found incumbent of value 0.000000 after 0.00 sec. (0.01 ticks)\n",
      "Tried aggregator 1 time.\n",
      "Reduced MIP has 152 rows, 101 columns, and 501 nonzeros.\n",
      "Reduced MIP has 50 binaries, 0 generals, 0 SOSs, and 0 indicators.\n",
      "Presolve time = 0.00 sec. (0.57 ticks)\n",
      "Probing fixed 0 vars, tightened 1 bounds.\n",
      "Probing time = 0.00 sec. (0.29 ticks)\n",
      "Tried aggregator 1 time.\n",
      "Reduced MIP has 152 rows, 101 columns, and 501 nonzeros.\n",
      "Reduced MIP has 50 binaries, 0 generals, 0 SOSs, and 0 indicators.\n",
      "Presolve time = 0.00 sec. (0.39 ticks)\n",
      "Probing time = 0.00 sec. (0.32 ticks)\n",
      "Clique table members: 12.\n",
      "MIP emphasis: balance optimality and feasibility.\n",
      "MIP search method: dynamic search.\n",
      "Parallel mode: deterministic, using up to 4 threads.\n",
      "Root relaxation solution time = 0.00 sec. (0.23 ticks)\n",
      "\n",
      "        Nodes                                         Cuts/\n",
      "   Node  Left     Objective  IInf  Best Integer    Best Bound    ItCnt     Gap\n",
      "\n",
      "*     0+    0                            0.0000    25697.0000              --- \n",
      "*     0+    0                          567.1077    25697.0000              --- \n",
      "*     0+    0                         3718.0000    25697.0000           591.15%\n",
      "      0     0     8282.0869    14     3718.0000     8282.0869       16  122.76%\n",
      "*     0+    0                         8146.8718     8282.0869             1.66%\n",
      "      0     0     8233.7356     5     8146.8718       Cuts: 3       29    1.07%\n",
      "      0     0     8174.9424     4     8146.8718       Cuts: 3       37    0.34%\n",
      "\n",
      "Repeating presolve.\n",
      "Tried aggregator 2 times.\n",
      "MIP Presolve eliminated 127 rows and 81 columns.\n",
      "MIP Presolve modified 140 coefficients.\n",
      "Aggregator did 11 substitutions.\n",
      "Reduced MIP has 14 rows, 9 columns, and 39 nonzeros.\n",
      "Reduced MIP has 4 binaries, 0 generals, 0 SOSs, and 0 indicators.\n",
      "Presolve time = 0.00 sec. (0.60 ticks)\n",
      "Probing fixed 0 vars, tightened 5 bounds.\n",
      "Probing time = 0.00 sec. (0.03 ticks)\n",
      "Tried aggregator 1 time.\n",
      "MIP Presolve modified 11 coefficients.\n",
      "Reduced MIP has 14 rows, 9 columns, and 39 nonzeros.\n",
      "Reduced MIP has 4 binaries, 0 generals, 0 SOSs, and 0 indicators.\n",
      "Presolve time = 0.00 sec. (0.02 ticks)\n",
      "Represolve time = 0.01 sec. (0.70 ticks)\n",
      "Probing fixed 0 vars, tightened 1 bounds.\n",
      "Probing time = 0.00 sec. (0.02 ticks)\n",
      "Clique table members: 1.\n",
      "MIP emphasis: balance optimality and feasibility.\n",
      "MIP search method: dynamic search.\n",
      "Parallel mode: deterministic, using up to 4 threads.\n",
      "Root relaxation solution time = 0.00 sec. (0.03 ticks)\n",
      "\n",
      "        Nodes                                         Cuts/\n",
      "   Node  Left     Objective  IInf  Best Integer    Best Bound    ItCnt     Gap\n",
      "\n",
      "*     0+    0                         8146.8718     8174.9424             0.34%\n",
      "      0     0     8170.3199     3     8146.8718     8170.3199       44    0.29%\n",
      "      0     0        cutoff           8146.8718                     45    0.00%\n",
      "Elapsed time = 0.10 sec. (6.08 ticks, tree = 0.00 MB, solutions = 4)\n",
      "\n",
      "Flow cuts applied:  2\n",
      "Zero-half cuts applied:  1\n",
      "Gomory fractional cuts applied:  1\n",
      "\n",
      "Root node processing (before b&c):\n",
      "  Real time             =    0.11 sec. (6.08 ticks)\n",
      "Parallel b&c, 4 threads:\n",
      "  Real time             =    0.00 sec. (0.00 ticks)\n",
      "  Sync time (average)   =    0.00 sec.\n",
      "  Wait time (average)   =    0.00 sec.\n",
      "                          ------------\n",
      "Total (root+branch&cut) =    0.11 sec. (6.08 ticks)\n"
     ]
    },
    {
     "data": {
      "text/plain": [
       "8146.871794871795"
      ]
     },
     "execution_count": 33,
     "metadata": {},
     "output_type": "execute_result"
    }
   ],
   "source": [
    "solve_nonlinear_knapsack_cplex(probs[5],1)"
   ]
  },
  {
   "cell_type": "markdown",
   "metadata": {},
   "source": [
    "### 2.3. Compare DP method and CPLEX method"
   ]
  },
  {
   "cell_type": "code",
   "execution_count": 34,
   "metadata": {
    "collapsed": true
   },
   "outputs": [],
   "source": [
    "def compare_dp_cplex(probs,pnt):  # pnt:penalty\n",
    "    res = []\n",
    "    for p in probs:\n",
    "        dp_res = round(solve_nonlinear_knapsack_dp(p,pnt),2)\n",
    "        cplex_res = round(solve_nonlinear_knapsack_cplex(p,pnt),2)\n",
    "        if dp_res!=cplex_res: res.append(False)\n",
    "        else: res.append(True)\n",
    "    return res, dp_res, cplex_res"
   ]
  },
  {
   "cell_type": "code",
   "execution_count": 35,
   "metadata": {
    "collapsed": false
   },
   "outputs": [
    {
     "name": "stdout",
     "output_type": "stream",
     "text": [
      "Found incumbent of value 0.000000 after 0.00 sec. (0.01 ticks)\n",
      "Tried aggregator 1 time.\n",
      "MIP Presolve modified 1 coefficients.\n",
      "Reduced MIP has 152 rows, 101 columns, and 501 nonzeros.\n",
      "Reduced MIP has 50 binaries, 0 generals, 0 SOSs, and 0 indicators.\n",
      "Presolve time = 0.00 sec. (0.85 ticks)\n",
      "Probing fixed 0 vars, tightened 1 bounds.\n",
      "Probing time = 0.00 sec. (0.55 ticks)\n",
      "Tried aggregator 1 time.\n",
      "MIP Presolve modified 1 coefficients.\n",
      "Reduced MIP has 152 rows, 101 columns, and 501 nonzeros.\n",
      "Reduced MIP has 50 binaries, 0 generals, 0 SOSs, and 0 indicators.\n",
      "Presolve time = 0.00 sec. (0.45 ticks)\n",
      "Probing time = 0.00 sec. (0.56 ticks)\n",
      "Clique table members: 23.\n",
      "MIP emphasis: balance optimality and feasibility.\n",
      "MIP search method: dynamic search.\n",
      "Parallel mode: deterministic, using up to 4 threads.\n",
      "Root relaxation solution time = 0.00 sec. (0.21 ticks)\n",
      "\n",
      "        Nodes                                         Cuts/\n",
      "   Node  Left     Objective  IInf  Best Integer    Best Bound    ItCnt     Gap\n",
      "\n",
      "*     0+    0                            0.0000    25205.0000              --- \n",
      "*     0+    0                          227.8404    25205.0000              --- \n",
      "*     0+    0                         3425.9412    25205.0000           635.71%\n",
      "      0     0     6031.3324     1     3425.9412     6031.3324       11   76.05%\n",
      "*     0+    0                         5929.5517     6031.3324             1.72%\n",
      "      0     0     5960.9914     1     5929.5517       Cuts: 2       14    0.53%\n",
      "*     0     0      integral     0     5960.9679     5960.9679       15    0.00%\n",
      "Elapsed time = 0.07 sec. (5.02 ticks, tree = 0.00 MB, solutions = 5)\n",
      "\n",
      "Flow cuts applied:  1\n",
      "\n",
      "Root node processing (before b&c):\n",
      "  Real time             =    0.07 sec. (5.03 ticks)\n",
      "Parallel b&c, 4 threads:\n",
      "  Real time             =    0.00 sec. (0.00 ticks)\n",
      "  Sync time (average)   =    0.00 sec.\n",
      "  Wait time (average)   =    0.00 sec.\n",
      "                          ------------\n",
      "Total (root+branch&cut) =    0.07 sec. (5.03 ticks)\n"
     ]
    },
    {
     "data": {
      "text/plain": [
       "([False], 5929.55, 5960.97)"
      ]
     },
     "execution_count": 35,
     "metadata": {},
     "output_type": "execute_result"
    }
   ],
   "source": [
    "compare_dp_cplex(probs[2:3],1)"
   ]
  },
  {
   "cell_type": "markdown",
   "metadata": {},
   "source": [
    "# 3. Robust Knapsack"
   ]
  },
  {
   "cell_type": "code",
   "execution_count": 54,
   "metadata": {
    "collapsed": false
   },
   "outputs": [],
   "source": [
    "def robust_knapsack_cplex(c,d,a,n,b,gamma):\n",
    "    cplex = Cplex()\n",
    "    \n",
    "    # Set variables\n",
    "    x = ['x%d' % i for i in range(n)]\n",
    "    y = ['y%d' % i for i in range(n)]\n",
    "    p = ['pi']\n",
    "    cplex.variables.add(obj=c+[0]*(n+1), types=['B']*n + ['C']*(n+1), names=x+y+p)\n",
    "    \n",
    "    # Set constraints\n",
    "    row = [SparsePair(ind=x+y+p, val=a+[1]*n+[gamma])]+\\\n",
    "          [SparsePair(ind=[y[i]]+p+[x[i]], val=[1,1,-d[i]]) for i in range(n)]\n",
    "        \n",
    "        \n",
    "    # Set constraints\n",
    "#     row = [SparsePair(ind=x+y, val=a+[1]*n)]+\\\n",
    "#           [SparsePair(ind=[y[i]]+p+[x[i]], val=[1,1,-d[i]]) for i in range(n)]\n",
    "        \n",
    "    cplex.linear_constraints.add(lin_expr=row, senses=['L']+['G']*n, rhs=[b]+[0]*n)\n",
    "    \n",
    "    #Set sense\n",
    "    cplex.objective.set_sense(cplex.objective.sense.maximize)\n",
    "    \n",
    "    #Solve\n",
    "    cplex.solve()\n",
    "    \n",
    "    obj_val = cplex.solution.get_objective_value()\n",
    "    x_res = [(cplex.solution.get_values(x[i]), x[i]) for i in range(n) \\\n",
    "             if cplex.solution.get_values(x[i]) > 0]\n",
    "    return obj_val #, x_res"
   ]
  },
  {
   "cell_type": "code",
   "execution_count": 55,
   "metadata": {
    "collapsed": true
   },
   "outputs": [],
   "source": [
    "def solve_robust_knapsack_cplex(p, gamma):\n",
    "    n = p['n']\n",
    "    a = p['a']\n",
    "    b = p['b']\n",
    "    c = p['c']\n",
    "    d = [ai*0.3 for ai in a]\n",
    "    return robust_knapsack_cplex(c,d,a,n,b,gamma)"
   ]
  },
  {
   "cell_type": "code",
   "execution_count": 56,
   "metadata": {
    "collapsed": false
   },
   "outputs": [
    {
     "name": "stdout",
     "output_type": "stream",
     "text": [
      "Found incumbent of value 0.000000 after 0.00 sec. (0.01 ticks)\n",
      "Tried aggregator 1 time.\n",
      "MIP Presolve eliminated 12 rows and 24 columns.\n",
      "Reduced MIP has 39 rows, 77 columns, and 191 nonzeros.\n",
      "Reduced MIP has 38 binaries, 0 generals, 0 SOSs, and 0 indicators.\n",
      "Presolve time = 0.00 sec. (0.26 ticks)\n",
      "Probing time = 0.00 sec. (0.43 ticks)\n",
      "Tried aggregator 1 time.\n",
      "Reduced MIP has 39 rows, 77 columns, and 191 nonzeros.\n",
      "Reduced MIP has 38 binaries, 0 generals, 0 SOSs, and 0 indicators.\n",
      "Presolve time = 0.00 sec. (0.14 ticks)\n",
      "Probing time = 0.00 sec. (0.28 ticks)\n",
      "Clique table members: 133.\n",
      "MIP emphasis: balance optimality and feasibility.\n",
      "MIP search method: dynamic search.\n",
      "Parallel mode: deterministic, using up to 4 threads.\n",
      "Root relaxation solution time = 0.00 sec. (0.08 ticks)\n",
      "\n",
      "        Nodes                                         Cuts/\n",
      "   Node  Left     Objective  IInf  Best Integer    Best Bound    ItCnt     Gap\n",
      "\n",
      "*     0+    0                            0.0000    21292.0000              --- \n",
      "      0     0     7339.8323     1        0.0000     7339.8323       15     --- \n",
      "*     0+    0                         6709.0000     7339.8323             9.40%\n",
      "      0     0     7314.9061     1     6709.0000       Cuts: 3       17    9.03%\n",
      "*     0+    0                         7278.0000     7314.9061             0.51%\n",
      "      0     0        cutoff           7278.0000                     19    0.00%\n",
      "Elapsed time = 0.04 sec. (1.82 ticks, tree = 0.00 MB, solutions = 3)\n",
      "\n",
      "Flow cuts applied:  1\n",
      "Mixed integer rounding cuts applied:  1\n",
      "Gomory fractional cuts applied:  1\n",
      "\n",
      "Root node processing (before b&c):\n",
      "  Real time             =    0.05 sec. (1.82 ticks)\n",
      "Parallel b&c, 4 threads:\n",
      "  Real time             =    0.00 sec. (0.00 ticks)\n",
      "  Sync time (average)   =    0.00 sec.\n",
      "  Wait time (average)   =    0.00 sec.\n",
      "                          ------------\n",
      "Total (root+branch&cut) =    0.05 sec. (1.82 ticks)\n"
     ]
    },
    {
     "data": {
      "text/plain": [
       "7278.0"
      ]
     },
     "execution_count": 56,
     "metadata": {},
     "output_type": "execute_result"
    }
   ],
   "source": [
    "solve_robust_knapsack_cplex(probs[0],20)"
   ]
  },
  {
   "cell_type": "markdown",
   "metadata": {},
   "source": [
    "# 4. integer knapsack"
   ]
  },
  {
   "cell_type": "code",
   "execution_count": 36,
   "metadata": {
    "collapsed": false,
    "scrolled": true
   },
   "outputs": [],
   "source": [
    "def h(lmd, c, a):\n",
    "    if lmd<=0:return 0\n",
    "    val = max([c[j]+h(lmd-a[j], c, a) for j in range(1,len(c)) if lmd>=a[j]])\n",
    "    return max(0,val)"
   ]
  },
  {
   "cell_type": "code",
   "execution_count": 37,
   "metadata": {
    "collapsed": true
   },
   "outputs": [],
   "source": [
    "def h2(r,lmd,c,a):\n",
    "    pick = c[r]\n",
    "    if lmd<=0 or r<=0: return 0\n",
    "    if lmd<a[r]:\n",
    "        pick=0\n",
    "    return max(h2(r-1,lmd,c,a), pick+h2(r,lmd-a[r],c,a))"
   ]
  },
  {
   "cell_type": "code",
   "execution_count": 38,
   "metadata": {
    "collapsed": false
   },
   "outputs": [
    {
     "name": "stdout",
     "output_type": "stream",
     "text": [
      "23\n",
      "23\n"
     ]
    }
   ],
   "source": [
    "c = [0,7,9,2,15]\n",
    "a = [0,3,4,1,7]\n",
    "\n",
    "print h(10, c, a)\n",
    "print h2(4, 10, c, a)"
   ]
  }
 ],
 "metadata": {
  "kernelspec": {
   "display_name": "Python 2",
   "language": "python",
   "name": "python2"
  },
  "language_info": {
   "codemirror_mode": {
    "name": "ipython",
    "version": 2
   },
   "file_extension": ".py",
   "mimetype": "text/x-python",
   "name": "python",
   "nbconvert_exporter": "python",
   "pygments_lexer": "ipython2",
   "version": "2.7.11"
  }
 },
 "nbformat": 4,
 "nbformat_minor": 0
}
